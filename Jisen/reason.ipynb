{
 "cells": [
  {
   "cell_type": "code",
   "execution_count": 3,
   "metadata": {},
   "outputs": [],
   "source": [
    "import pandas as pd\n",
    "import seaborn as sns\n",
    "import matplotlib.pyplot as plt\n",
    "\n",
    "data = pd.read_csv('file_3_Mar18_Output_1.csv')\n",
    "data = data[data['resolved'] == 'resolved']\n",
    "pct_data = data['reason'].value_counts(normalize=True)\n",
    "top_5_reasons = pct_data.nlargest(10)"
   ]
  },
  {
   "cell_type": "code",
   "execution_count": 4,
   "metadata": {},
   "outputs": [
    {
     "data": {
      "text/plain": [
       "reason\n",
       "PP    0.456748\n",
       "BA    0.317791\n",
       "PT    0.140639\n",
       "AT    0.045433\n",
       "AA    0.007463\n",
       "LS    0.003065\n",
       "IC    0.002536\n",
       "CA    0.002408\n",
       "PI    0.002359\n",
       "CB    0.002232\n",
       "Name: proportion, dtype: float64"
      ]
     },
     "execution_count": 4,
     "metadata": {},
     "output_type": "execute_result"
    }
   ],
   "source": [
    "top_5_reasons"
   ]
  },
  {
   "cell_type": "code",
   "execution_count": 9,
   "metadata": {},
   "outputs": [
    {
     "name": "stdout",
     "output_type": "stream",
     "text": [
      "42        IA FI TR\n",
      "396          IA TR\n",
      "447          IA TR\n",
      "450          IA TR\n",
      "570          IA TR\n",
      "            ...   \n",
      "904549       IA TR\n",
      "904550       IA TR\n",
      "904551       IA TR\n",
      "904589       IA TR\n",
      "904614       IA TR\n",
      "Name: mos, Length: 7579, dtype: object\n"
     ]
    }
   ],
   "source": [
    "pt_data = data[data['reason'] == 'FD']\n",
    "\n",
    "ct_mos_values = pt_data['mos']\n",
    "\n",
    "print(ct_mos_values)"
   ]
  },
  {
   "cell_type": "code",
   "execution_count": 14,
   "metadata": {},
   "outputs": [
    {
     "name": "stdout",
     "output_type": "stream",
     "text": [
      "True\n"
     ]
    }
   ],
   "source": [
    "contains_fd = data['mos'].str.contains('AT').any()\n",
    "\n",
    "print(contains_fd)"
   ]
  }
 ],
 "metadata": {
  "kernelspec": {
   "display_name": "Python 3",
   "language": "python",
   "name": "python3"
  },
  "language_info": {
   "codemirror_mode": {
    "name": "ipython",
    "version": 3
   },
   "file_extension": ".py",
   "mimetype": "text/x-python",
   "name": "python",
   "nbconvert_exporter": "python",
   "pygments_lexer": "ipython3",
   "version": "3.10.7"
  }
 },
 "nbformat": 4,
 "nbformat_minor": 2
}
