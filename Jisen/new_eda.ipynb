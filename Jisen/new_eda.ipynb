{
 "cells": [
  {
   "cell_type": "code",
   "execution_count": null,
   "metadata": {},
   "outputs": [],
   "source": [
    "import pandas as pd\n",
    "import seaborn as sns\n",
    "import matplotlib.pyplot as plt\n",
    "\n",
    "# 假设你的数据集路径是 'your_dataset.csv'\n",
    "# 加载数据集\n",
    "ds = pd.read_csv('3_clean.csv')\n",
    "data = ds[:10000]\n",
    "# 预览数据\n",
    "print(data.head())\n",
    "\n",
    "# 获取描述性统计信息\n",
    "print(data.describe())"
   ]
  },
  {
   "cell_type": "code",
   "execution_count": null,
   "metadata": {},
   "outputs": [],
   "source": [
    "\n",
    "# 分布可视化\n",
    "# 账户数量的分布\n",
    "sns.histplot(data['no_of_accounts_with_syf_13_march'], kde=True)\n",
    "plt.title('Distribution of Number of Accounts')\n",
    "plt.xlabel('Number of Accounts with SYF 13 March')\n",
    "plt.ylabel('Frequency')\n",
    "plt.show()\n",
    "\n",
    "# 解决状态的分布\n",
    "sns.countplot(x='resolved', data=data)\n",
    "plt.title('Distribution of Resolved Status')\n",
    "plt.xlabel('Resolved Status')\n",
    "plt.ylabel('Count')\n",
    "plt.show()"
   ]
  },
  {
   "cell_type": "code",
   "execution_count": null,
   "metadata": {},
   "outputs": [],
   "source": [
    "\n",
    "# 分析账户数量和解决状态之间的关系\n",
    "sns.boxplot(x='resolved', y='no_of_accounts_with_syf_13_march', data=data)\n",
    "plt.title('Relationship between Number of Accounts and Resolved Status')\n",
    "plt.xlabel('Resolved Status')\n",
    "plt.ylabel('Number of Accounts with SYF 13 March')\n",
    "plt.show()"
   ]
  }
 ],
 "metadata": {
  "language_info": {
   "name": "python"
  }
 },
 "nbformat": 4,
 "nbformat_minor": 2
}
